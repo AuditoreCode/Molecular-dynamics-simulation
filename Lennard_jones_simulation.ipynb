{
 "cells": [
  {
   "cell_type": "code",
   "execution_count": 2,
   "metadata": {},
   "outputs": [],
   "source": [
    "\n",
    "import numpy as np\n",
    "import matplotlib.pyplot as plt\n",
    "import random\n",
    "import matplotlib.animation as animation              \n",
    "import matplotlib.patches as patches\n",
    "\n",
    "N = 100  # number of atoms\n",
    "duration = 20\n",
    "nsteps = 1000\n",
    "dt = duration/nsteps\n",
    "L = int(N**0.5)\n",
    "E_0 = 1\n",
    "positions = np.zeros((N,2))\n",
    "velocities = np.zeros_like(positions)\n",
    "forces = np.zeros_like(positions)\n",
    "atoms = []\n",
    "rc = 2.5 #cutoff distance"
   ]
  },
  {
   "cell_type": "code",
   "execution_count": 3,
   "metadata": {},
   "outputs": [
    {
     "data": {
      "image/png": "[encoded data removed]",
      "text/plain": [
       "<Figure size 640x480 with 1 Axes>"
      ]
     },
     "metadata": {},
     "output_type": "display_data"
    }
   ],
   "source": [
    "#initialisation\n",
    "\n",
    "fig, ax = plt.subplots()\n",
    "\n",
    "def init(positions,velocities):\n",
    "    i = -1\n",
    "    for j in range (L):\n",
    "        for k in range (L):\n",
    "            i += 1\n",
    "            positions[i][0] = j \n",
    "            positions[i][1] = k \n",
    "\n",
    "\n",
    "    for i in range(0,N):\n",
    "        theta = random.uniform(0.0,2*np.pi)\n",
    "        velocities[i][:] = [np.cos(theta),np.sin(theta)]\n",
    "\n",
    "    \n",
    "\n",
    "    for i in range (N):\n",
    "        atom = patches.Circle((positions[i,0],positions[i,1]),0.1,facecolor='red')\n",
    "        ax.add_patch(atom)\n",
    "        atoms.append(atom)\n",
    "\n",
    "init(positions,velocities)\n",
    "ax.set_xlim(-1,L )\n",
    "ax.set_ylim(-1 ,L )\n",
    "ax.grid()\n"
   ]
  },
  {
   "cell_type": "code",
   "execution_count": 4,
   "metadata": {},
   "outputs": [],
   "source": [
    "# forces \n",
    "\n",
    "def interact_closer_pict(x):\n",
    "    if x > L:\n",
    "        return x - L\n",
    "    if x < 0:\n",
    "        return x + L\n",
    "    else:\n",
    "        return x\n",
    "\n",
    "def forces_computation(positions,forces):\n",
    "    for i in range (0,N-1):\n",
    "        for j in range(i+1,N):\n",
    "            dx = positions[i][0] - positions[j][0]\n",
    "            dy = positions[i][1] - positions[j][1]\n",
    "            dx = interact_closer_pict(dx)\n",
    "            dy = interact_closer_pict(dy)\n",
    "\n",
    "            if dx*dx + dy*dy < rc**2:\n",
    "                force = 0\n",
    "            else:\n",
    "                r2_inv = 1/(dx*dx + dy*dy)\n",
    "                force = 24*E_0* r2_inv**7 * (2*r2_inv**6 +1)\n",
    "            \n",
    "            forces[i,0] += force*dx\n",
    "            forces[i,1] += force*dy\n",
    "\n",
    "            forces[j,0] += -force*dx\n",
    "            forces[j,1] += -force*dy\n",
    "    return forces\n",
    "\n",
    "        "
   ]
  },
  {
   "cell_type": "code",
   "execution_count": 5,
   "metadata": {},
   "outputs": [],
   "source": [
    "# evolution of particules at each time step (using verlet algorithm)\n",
    " \n",
    "def step_evolution(positions,velocities,forces):\n",
    "    dt2 = dt*dt\n",
    "    \n",
    "    positions = positions + dt*velocities + 0.5*dt2*forces\n",
    "    \n",
    "    next_forces = forces_computation(positions,forces) \n",
    "    velocities = velocities + 0.5*dt2*(forces+next_forces)\n",
    "    \n",
    "    forces = next_forces\n",
    "    return positions,velocities"
   ]
  },
  {
   "cell_type": "code",
   "execution_count": 6,
   "metadata": {},
   "outputs": [],
   "source": [
    "# collecting all the data through the duration of the animation\n",
    "\n",
    "all_positions = np.zeros((nsteps,N,2))\n",
    "all_velocities = np.zeros_like((all_positions))\n",
    "\n",
    "for t in range (0,nsteps):\n",
    "    all_positions[t,:,:],all_velocities[t,:,:] = step_evolution(positions,velocities,forces)\n",
    "\n",
    "\n",
    "\n"
   ]
  },
  {
   "cell_type": "code",
   "execution_count": 7,
   "metadata": {},
   "outputs": [
    {
     "name": "stdout",
     "output_type": "stream",
     "text": [
      "[1.98637129e-02 1.09800072e+01 2.00024974e-02 1.97172263e-02\n",
      " 1.29369351e-02 1.09834112e+01 1.09979640e+01 8.74090567e-03\n",
      " 1.09811541e+01 1.14846972e-02 1.09824991e+01 1.01586731e+00\n",
      " 1.01751749e+00 1.01605715e+00 1.00270542e+00 1.01708293e+00\n",
      " 9.80030321e-01 1.01843993e+00 9.87028879e-01 1.01915064e+00\n",
      " 1.00251272e+00 1.01256616e+00 1.98054973e+00 2.00915367e+00\n",
      " 1.99352729e+00 1.98087201e+00 2.01913645e+00 1.98241643e+00\n",
      " 2.01314696e+00 2.01000393e+00 2.00099821e+00 2.01807110e+00\n",
      " 2.00432341e+00 3.00961004e+00 3.01277658e+00 2.98014021e+00\n",
      " 3.01513737e+00 2.98382286e+00 2.98202331e+00 3.01794264e+00\n",
      " 2.98192624e+00 2.98732674e+00 3.01186834e+00 2.99016644e+00\n",
      " 4.01996420e+00 3.99077103e+00 4.01397732e+00 3.98124766e+00\n",
      " 4.01799228e+00 4.01045347e+00 4.01482107e+00 4.00820967e+00\n",
      " 3.98379948e+00 3.98071036e+00 4.01825771e+00 5.01698352e+00\n",
      " 4.98672495e+00 4.98007603e+00 5.01501429e+00 4.98487482e+00\n",
      " 4.98525984e+00 5.01147205e+00 5.01921877e+00 5.00518588e+00\n",
      " 4.99945654e+00 5.01962203e+00 6.01915413e+00 5.98903436e+00\n",
      " 6.00998064e+00 5.99423691e+00 6.01188931e+00 5.98000039e+00\n",
      " 5.98352099e+00 5.99860736e+00 6.01138459e+00 5.98821869e+00\n",
      " 6.01648079e+00 7.01999056e+00 7.01132113e+00 7.01792358e+00\n",
      " 6.98592648e+00 7.01665956e+00 7.00078644e+00 6.98121973e+00\n",
      " 7.01997844e+00 7.01960471e+00 7.00589657e+00 6.99851910e+00\n",
      " 8.00473541e+00 7.99933396e+00 8.00177380e+00 7.99472949e+00\n",
      " 8.01057136e+00 8.00606330e+00 7.98073973e+00 8.01776991e+00\n",
      " 7.98489032e+00 7.98607998e+00 8.01835914e+00 8.98093798e+00\n",
      " 8.98415895e+00 9.01979321e+00 8.98092885e+00 8.98272017e+00\n",
      " 9.01261392e+00 9.00671459e+00 9.01969184e+00 9.00297673e+00\n",
      " 9.01319245e+00 9.00463951e+00 1.00094008e+01 1.00006792e+01\n",
      " 1.00146457e+01 9.98015689e+00 9.99988859e+00 9.98220755e+00\n",
      " 9.99064654e+00 1.00098438e+01 9.98001672e+00 1.00064532e+01\n",
      " 9.99729461e+00 1.92060098e-02 6.39493578e-03 1.20154133e-02\n",
      " 1.42703524e-02]\n"
     ]
    }
   ],
   "source": [
    "print(all_positions[500,:,0]%L)"
   ]
  },
  {
   "cell_type": "code",
   "execution_count": 11,
   "metadata": {},
   "outputs": [],
   "source": [
    "#speeds = np.linalg.norm(all_velocities, axis=2)\n",
    "\n",
    "\n",
    "\n",
    "\n",
    "def anim(t):\n",
    "    for i in range(N):\n",
    "        x,y = all_positions[t,i,0]%(L) , all_positions[t,i,1]%(L)\n",
    "        atoms[i].center = x,y\n",
    "        ax.set_xlim(-1,L+1)\n",
    "        ax.set_ylim(-1,L+1)\n",
    "        \n",
    "    \n",
    "interval = duration*1e3/nsteps\n",
    "ani = animation.FuncAnimation(fig, anim, frames = nsteps, interval=interval, repeat=False)\n",
    "ani.save('lennard_jones_simulation.gif', writer='pillow')\n",
    "\n",
    "\n"
   ]
  },
  {
   "cell_type": "code",
   "execution_count": null,
   "metadata": {},
   "outputs": [],
   "source": []
  }
 ],
 "metadata": {
  "kernelspec": {
   "display_name": "Python 3",
   "language": "python",
   "name": "python3"
  },
  "language_info": {
   "codemirror_mode": {
    "name": "ipython",
    "version": 3
   },
   "file_extension": ".py",
   "mimetype": "text/x-python",
   "name": "python",
   "nbconvert_exporter": "python",
   "pygments_lexer": "ipython3",
   "version": "3.11.9"
  }
 },
 "nbformat": 4,
 "nbformat_minor": 2
}
